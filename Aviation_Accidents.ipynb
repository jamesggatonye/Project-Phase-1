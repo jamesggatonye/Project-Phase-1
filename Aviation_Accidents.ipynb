{
 "cells": [
  {
   "cell_type": "markdown",
   "id": "bd567617-972b-4589-a455-ab74d306cd26",
   "metadata": {},
   "source": [
    "#**CLEANSING & ANALYSIS OF AVIATION ACCIDENTS DATA**"
   ]
  },
  {
   "cell_type": "markdown",
   "id": "9d0f1c1f-5c4b-4868-b63b-4146a58a75ea",
   "metadata": {},
   "source": [
    "##**Introduction**\n",
    "This project aims at cleaning and analyzing data for aviation accidents that occurred in the United States, all its territories as well as international waters. The analysis will derive insights that will help one of my clients to make a decision on the type of aircrafts to purchase."
   ]
  },
  {
   "cell_type": "markdown",
   "id": "be87bcd2-3f9f-44aa-a037-b4168f5b353e",
   "metadata": {},
   "source": [
    "##**Objectives**\n",
    "- Data cleansing "
   ]
  }
 ],
 "metadata": {
  "kernelspec": {
   "display_name": "Python 3 (ipykernel)",
   "language": "python",
   "name": "python3"
  },
  "language_info": {
   "codemirror_mode": {
    "name": "ipython",
    "version": 3
   },
   "file_extension": ".py",
   "mimetype": "text/x-python",
   "name": "python",
   "nbconvert_exporter": "python",
   "pygments_lexer": "ipython3",
   "version": "3.12.7"
  }
 },
 "nbformat": 4,
 "nbformat_minor": 5
}
