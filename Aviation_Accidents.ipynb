{
 "cells": [
  {
   "cell_type": "markdown",
   "id": "bd567617-972b-4589-a455-ab74d306cd26",
   "metadata": {},
   "source": [
    "###**AVIATION ACCIDENTS DATA CLEANSING & ANALYSIS**"
   ]
  },
  {
   "cell_type": "markdown",
   "id": "9d0f1c1f-5c4b-4868-b63b-4146a58a75ea",
   "metadata": {},
   "source": [
    "##**Introduction**\n",
    "This project aims at cleaning and analyzing data for aviation accidents that occurred in the United States, all its territories as well as international waters. The analysis will derive insights that will help one of my clients to make a decision on the type of aircrafts to purchase."
   ]
  },
  {
   "cell_type": "markdown",
   "id": "be87bcd2-3f9f-44aa-a037-b4168f5b353e",
   "metadata": {},
   "source": [
    "##**Objectives**\n",
    "- Cleaning the data\n",
    "- Analysing the data and getting insights\n",
    "- Determining which aircrafts has low risk\n",
    "- Presenting the findings and actionable insights to the client"
   ]
  },
  {
   "cell_type": "markdown",
   "id": "8006c957-ac81-430c-908b-6095d29fb0b6",
   "metadata": {},
   "source": [
    "##**Data content & Source**\n",
    "The aviation accidents data contains information about aircraft accidents in USA, its territories and international waters. It is contained in 2 CSV files downloaded from Kaggle.com (URL: https://www.kaggle.com/datasets/khsamaha/aviation-accident-database-synopses?select=AviationData.csv) "
   ]
  },
  {
   "cell_type": "markdown",
   "id": "49036bd9-8b22-487f-8bbb-7268a1bca320",
   "metadata": {},
   "source": [
    "##**Data Analysis Methods**\n",
    "\n",
    "The data is analyzed using python libraries including:\n",
    "- Pandas: Data manipulation and analysis\n",
    "- Matplotlib: Data visualization \n",
    "- Seaborn: Statistical plotting"
   ]
  },
  {
   "cell_type": "code",
   "execution_count": 1,
   "id": "bcac7f1c-d1ad-4996-a105-4d9ab586f087",
   "metadata": {},
   "outputs": [],
   "source": [
    "#Importing the necessary python libraries \n",
    "import pandas as pd\n",
    "import matplotlib.pyplot as plt\n",
    "import seaborn as sns "
   ]
  },
  {
   "cell_type": "markdown",
   "id": "76d21527-63e7-474f-a7a9-820cf2e1569f",
   "metadata": {},
   "source": [
    "#**DATA CLEANSING**"
   ]
  },
  {
   "cell_type": "code",
   "execution_count": 2,
   "id": "48228442-e9a1-4632-a49a-120354f0a63e",
   "metadata": {},
   "outputs": [
    {
     "data": {
      "text/html": [
       "<div>\n",
       "<style scoped>\n",
       "    .dataframe tbody tr th:only-of-type {\n",
       "        vertical-align: middle;\n",
       "    }\n",
       "\n",
       "    .dataframe tbody tr th {\n",
       "        vertical-align: top;\n",
       "    }\n",
       "\n",
       "    .dataframe thead th {\n",
       "        text-align: right;\n",
       "    }\n",
       "</style>\n",
       "<table border=\"1\" class=\"dataframe\">\n",
       "  <thead>\n",
       "    <tr style=\"text-align: right;\">\n",
       "      <th></th>\n",
       "      <th>Event.Id</th>\n",
       "      <th>Investigation.Type</th>\n",
       "      <th>Accident.Number</th>\n",
       "      <th>Event.Date</th>\n",
       "      <th>Location</th>\n",
       "      <th>Country</th>\n",
       "      <th>Latitude</th>\n",
       "      <th>Longitude</th>\n",
       "      <th>Airport.Code</th>\n",
       "      <th>Airport.Name</th>\n",
       "      <th>...</th>\n",
       "      <th>Purpose.of.flight</th>\n",
       "      <th>Air.carrier</th>\n",
       "      <th>Total.Fatal.Injuries</th>\n",
       "      <th>Total.Serious.Injuries</th>\n",
       "      <th>Total.Minor.Injuries</th>\n",
       "      <th>Total.Uninjured</th>\n",
       "      <th>Weather.Condition</th>\n",
       "      <th>Broad.phase.of.flight</th>\n",
       "      <th>Report.Status</th>\n",
       "      <th>Publication.Date</th>\n",
       "    </tr>\n",
       "  </thead>\n",
       "  <tbody>\n",
       "    <tr>\n",
       "      <th>0</th>\n",
       "      <td>20001218X45444</td>\n",
       "      <td>Accident</td>\n",
       "      <td>SEA87LA080</td>\n",
       "      <td>1948-10-24</td>\n",
       "      <td>MOOSE CREEK, ID</td>\n",
       "      <td>United States</td>\n",
       "      <td>NaN</td>\n",
       "      <td>NaN</td>\n",
       "      <td>NaN</td>\n",
       "      <td>NaN</td>\n",
       "      <td>...</td>\n",
       "      <td>Personal</td>\n",
       "      <td>NaN</td>\n",
       "      <td>2.0</td>\n",
       "      <td>0.0</td>\n",
       "      <td>0.0</td>\n",
       "      <td>0.0</td>\n",
       "      <td>UNK</td>\n",
       "      <td>Cruise</td>\n",
       "      <td>Probable Cause</td>\n",
       "      <td>NaN</td>\n",
       "    </tr>\n",
       "    <tr>\n",
       "      <th>1</th>\n",
       "      <td>20001218X45447</td>\n",
       "      <td>Accident</td>\n",
       "      <td>LAX94LA336</td>\n",
       "      <td>1962-07-19</td>\n",
       "      <td>BRIDGEPORT, CA</td>\n",
       "      <td>United States</td>\n",
       "      <td>NaN</td>\n",
       "      <td>NaN</td>\n",
       "      <td>NaN</td>\n",
       "      <td>NaN</td>\n",
       "      <td>...</td>\n",
       "      <td>Personal</td>\n",
       "      <td>NaN</td>\n",
       "      <td>4.0</td>\n",
       "      <td>0.0</td>\n",
       "      <td>0.0</td>\n",
       "      <td>0.0</td>\n",
       "      <td>UNK</td>\n",
       "      <td>Unknown</td>\n",
       "      <td>Probable Cause</td>\n",
       "      <td>19-09-1996</td>\n",
       "    </tr>\n",
       "  </tbody>\n",
       "</table>\n",
       "<p>2 rows × 31 columns</p>\n",
       "</div>"
      ],
      "text/plain": [
       "         Event.Id Investigation.Type Accident.Number  Event.Date  \\\n",
       "0  20001218X45444           Accident      SEA87LA080  1948-10-24   \n",
       "1  20001218X45447           Accident      LAX94LA336  1962-07-19   \n",
       "\n",
       "          Location        Country Latitude Longitude Airport.Code  \\\n",
       "0  MOOSE CREEK, ID  United States      NaN       NaN          NaN   \n",
       "1   BRIDGEPORT, CA  United States      NaN       NaN          NaN   \n",
       "\n",
       "  Airport.Name  ... Purpose.of.flight Air.carrier Total.Fatal.Injuries  \\\n",
       "0          NaN  ...          Personal         NaN                  2.0   \n",
       "1          NaN  ...          Personal         NaN                  4.0   \n",
       "\n",
       "  Total.Serious.Injuries Total.Minor.Injuries Total.Uninjured  \\\n",
       "0                    0.0                  0.0             0.0   \n",
       "1                    0.0                  0.0             0.0   \n",
       "\n",
       "  Weather.Condition  Broad.phase.of.flight   Report.Status Publication.Date  \n",
       "0               UNK                 Cruise  Probable Cause              NaN  \n",
       "1               UNK                Unknown  Probable Cause       19-09-1996  \n",
       "\n",
       "[2 rows x 31 columns]"
      ]
     },
     "execution_count": 2,
     "metadata": {},
     "output_type": "execute_result"
    }
   ],
   "source": [
    "#Importing and displaying the first data set \n",
    "df1=pd.read_csv(\"AviationData.csv\",encoding='cp1252',low_memory=False)\n",
    "df1.head(2)"
   ]
  },
  {
   "cell_type": "code",
   "execution_count": 3,
   "id": "f7bcb18d-4a8e-4ef0-bd30-ab5d766d51d3",
   "metadata": {},
   "outputs": [
    {
     "data": {
      "text/html": [
       "<div>\n",
       "<style scoped>\n",
       "    .dataframe tbody tr th:only-of-type {\n",
       "        vertical-align: middle;\n",
       "    }\n",
       "\n",
       "    .dataframe tbody tr th {\n",
       "        vertical-align: top;\n",
       "    }\n",
       "\n",
       "    .dataframe thead th {\n",
       "        text-align: right;\n",
       "    }\n",
       "</style>\n",
       "<table border=\"1\" class=\"dataframe\">\n",
       "  <thead>\n",
       "    <tr style=\"text-align: right;\">\n",
       "      <th></th>\n",
       "      <th>US_State</th>\n",
       "      <th>Abbreviation</th>\n",
       "    </tr>\n",
       "  </thead>\n",
       "  <tbody>\n",
       "    <tr>\n",
       "      <th>0</th>\n",
       "      <td>Alabama</td>\n",
       "      <td>AL</td>\n",
       "    </tr>\n",
       "    <tr>\n",
       "      <th>1</th>\n",
       "      <td>Alaska</td>\n",
       "      <td>AK</td>\n",
       "    </tr>\n",
       "  </tbody>\n",
       "</table>\n",
       "</div>"
      ],
      "text/plain": [
       "  US_State Abbreviation\n",
       "0  Alabama           AL\n",
       "1   Alaska           AK"
      ]
     },
     "execution_count": 3,
     "metadata": {},
     "output_type": "execute_result"
    }
   ],
   "source": [
    "#Importing and displaying the second data set \n",
    "df2=pd.read_csv(\"USState_Codes.csv\",encoding='cp1252',low_memory=False)\n",
    "df2.head(2)"
   ]
  },
  {
   "cell_type": "code",
   "execution_count": 4,
   "id": "858d1169-8ebf-42da-a7b4-afd96f4db21d",
   "metadata": {},
   "outputs": [
    {
     "data": {
      "text/plain": [
       "(88889, 31)"
      ]
     },
     "execution_count": 4,
     "metadata": {},
     "output_type": "execute_result"
    }
   ],
   "source": [
    "#Checking the dimensions of the first data sets \n",
    "df1.shape"
   ]
  },
  {
   "cell_type": "code",
   "execution_count": 5,
   "id": "7fa44093-94f4-44a8-9071-818218e941a1",
   "metadata": {},
   "outputs": [
    {
     "data": {
      "text/plain": [
       "(62, 2)"
      ]
     },
     "execution_count": 5,
     "metadata": {},
     "output_type": "execute_result"
    }
   ],
   "source": [
    "#Checking the dimensions of the second data sets \n",
    "df2.shape"
   ]
  },
  {
   "cell_type": "code",
   "execution_count": 6,
   "id": "3fb01272-f290-4e07-8cf4-29cb51bf0f28",
   "metadata": {},
   "outputs": [
    {
     "name": "stdout",
     "output_type": "stream",
     "text": [
      "<class 'pandas.core.frame.DataFrame'>\n",
      "RangeIndex: 88889 entries, 0 to 88888\n",
      "Data columns (total 31 columns):\n",
      " #   Column                  Non-Null Count  Dtype  \n",
      "---  ------                  --------------  -----  \n",
      " 0   Event.Id                88889 non-null  object \n",
      " 1   Investigation.Type      88889 non-null  object \n",
      " 2   Accident.Number         88889 non-null  object \n",
      " 3   Event.Date              88889 non-null  object \n",
      " 4   Location                88837 non-null  object \n",
      " 5   Country                 88663 non-null  object \n",
      " 6   Latitude                34382 non-null  object \n",
      " 7   Longitude               34373 non-null  object \n",
      " 8   Airport.Code            50132 non-null  object \n",
      " 9   Airport.Name            52704 non-null  object \n",
      " 10  Injury.Severity         87889 non-null  object \n",
      " 11  Aircraft.damage         85695 non-null  object \n",
      " 12  Aircraft.Category       32287 non-null  object \n",
      " 13  Registration.Number     87507 non-null  object \n",
      " 14  Make                    88826 non-null  object \n",
      " 15  Model                   88797 non-null  object \n",
      " 16  Amateur.Built           88787 non-null  object \n",
      " 17  Number.of.Engines       82805 non-null  float64\n",
      " 18  Engine.Type             81793 non-null  object \n",
      " 19  FAR.Description         32023 non-null  object \n",
      " 20  Schedule                12582 non-null  object \n",
      " 21  Purpose.of.flight       82697 non-null  object \n",
      " 22  Air.carrier             16648 non-null  object \n",
      " 23  Total.Fatal.Injuries    77488 non-null  float64\n",
      " 24  Total.Serious.Injuries  76379 non-null  float64\n",
      " 25  Total.Minor.Injuries    76956 non-null  float64\n",
      " 26  Total.Uninjured         82977 non-null  float64\n",
      " 27  Weather.Condition       84397 non-null  object \n",
      " 28  Broad.phase.of.flight   61724 non-null  object \n",
      " 29  Report.Status           82505 non-null  object \n",
      " 30  Publication.Date        75118 non-null  object \n",
      "dtypes: float64(5), object(26)\n",
      "memory usage: 21.0+ MB\n"
     ]
    }
   ],
   "source": [
    "#Getting a summary of the first data set \n",
    "df1.info()"
   ]
  },
  {
   "cell_type": "code",
   "execution_count": 7,
   "id": "1fe9904f-1c42-43c2-a007-b782bdfa566b",
   "metadata": {},
   "outputs": [
    {
     "name": "stdout",
     "output_type": "stream",
     "text": [
      "<class 'pandas.core.frame.DataFrame'>\n",
      "RangeIndex: 62 entries, 0 to 61\n",
      "Data columns (total 2 columns):\n",
      " #   Column        Non-Null Count  Dtype \n",
      "---  ------        --------------  ----- \n",
      " 0   US_State      62 non-null     object\n",
      " 1   Abbreviation  62 non-null     object\n",
      "dtypes: object(2)\n",
      "memory usage: 1.1+ KB\n"
     ]
    }
   ],
   "source": [
    "#Getting a summary of the first data set \n",
    "df2.info()"
   ]
  },
  {
   "cell_type": "code",
   "execution_count": 8,
   "id": "06041316-f54a-4a5c-9573-bab666cc871e",
   "metadata": {},
   "outputs": [
    {
     "data": {
      "text/plain": [
       "Event.Id                   0.000000\n",
       "Investigation.Type         0.000000\n",
       "Accident.Number            0.000000\n",
       "Event.Date                 0.000000\n",
       "Location                   0.058500\n",
       "Country                    0.254250\n",
       "Latitude                  61.320298\n",
       "Longitude                 61.330423\n",
       "Airport.Code              43.601570\n",
       "Airport.Name              40.708074\n",
       "Injury.Severity            1.124999\n",
       "Aircraft.damage            3.593246\n",
       "Aircraft.Category         63.677170\n",
       "Registration.Number        1.554748\n",
       "Make                       0.070875\n",
       "Model                      0.103500\n",
       "Amateur.Built              0.114750\n",
       "Number.of.Engines          6.844491\n",
       "Engine.Type                7.982990\n",
       "FAR.Description           63.974170\n",
       "Schedule                  85.845268\n",
       "Purpose.of.flight          6.965991\n",
       "Air.carrier               81.271023\n",
       "Total.Fatal.Injuries      12.826109\n",
       "Total.Serious.Injuries    14.073732\n",
       "Total.Minor.Injuries      13.424608\n",
       "Total.Uninjured            6.650992\n",
       "Weather.Condition          5.053494\n",
       "Broad.phase.of.flight     30.560587\n",
       "Report.Status              7.181991\n",
       "Publication.Date          15.492356\n",
       "dtype: float64"
      ]
     },
     "execution_count": 8,
     "metadata": {},
     "output_type": "execute_result"
    }
   ],
   "source": [
    "# getting the percentage of null values in each column (first data set)\n",
    "percent_missing = df1.isnull().sum() * 100 / len(df1)\n",
    "percent_missing"
   ]
  },
  {
   "cell_type": "code",
   "execution_count": 9,
   "id": "d9e1fcea-4931-4f4e-8b28-98a9ed170733",
   "metadata": {},
   "outputs": [
    {
     "data": {
      "text/plain": [
       "US_State        0.0\n",
       "Abbreviation    0.0\n",
       "dtype: float64"
      ]
     },
     "execution_count": 9,
     "metadata": {},
     "output_type": "execute_result"
    }
   ],
   "source": [
    "# getting the percentage of null values in each column (second data set)\n",
    "percent_missing = df2.isnull().sum() * 100 / len(df2)\n",
    "percent_missing"
   ]
  },
  {
   "cell_type": "code",
   "execution_count": 10,
   "id": "c5616f59-75b4-419b-82ae-6d28ea10a387",
   "metadata": {},
   "outputs": [],
   "source": [
    "#dropping columns with more than 30% of missing data \n",
    "threshold = 0.3\n",
    "min_count = int((1 - threshold) * len(df1))\n",
    "df1 = df1.dropna(axis=1, thresh=min_count)"
   ]
  },
  {
   "cell_type": "code",
   "execution_count": 11,
   "id": "dbf277ca-1e6e-4608-a19c-21baa44d2611",
   "metadata": {},
   "outputs": [
    {
     "data": {
      "text/plain": [
       "Event.Id                   0.000000\n",
       "Investigation.Type         0.000000\n",
       "Accident.Number            0.000000\n",
       "Event.Date                 0.000000\n",
       "Location                   0.058500\n",
       "Country                    0.254250\n",
       "Injury.Severity            1.124999\n",
       "Aircraft.damage            3.593246\n",
       "Registration.Number        1.554748\n",
       "Make                       0.070875\n",
       "Model                      0.103500\n",
       "Amateur.Built              0.114750\n",
       "Number.of.Engines          6.844491\n",
       "Engine.Type                7.982990\n",
       "Purpose.of.flight          6.965991\n",
       "Total.Fatal.Injuries      12.826109\n",
       "Total.Serious.Injuries    14.073732\n",
       "Total.Minor.Injuries      13.424608\n",
       "Total.Uninjured            6.650992\n",
       "Weather.Condition          5.053494\n",
       "Report.Status              7.181991\n",
       "Publication.Date          15.492356\n",
       "dtype: float64"
      ]
     },
     "execution_count": 11,
     "metadata": {},
     "output_type": "execute_result"
    }
   ],
   "source": [
    "percent_missing = df1.isnull().sum() * 100 / len(df1)\n",
    "percent_missing"
   ]
  },
  {
   "cell_type": "code",
   "execution_count": 12,
   "id": "0bd75aef-d761-4b1a-8c3e-385ed5bfe151",
   "metadata": {},
   "outputs": [
    {
     "data": {
      "text/plain": [
       "(88889, 22)"
      ]
     },
     "execution_count": 12,
     "metadata": {},
     "output_type": "execute_result"
    }
   ],
   "source": [
    "#checking the dimension of the new data frame 1\n",
    "df1.shape"
   ]
  },
  {
   "cell_type": "code",
   "execution_count": 13,
   "id": "6aedc0fd-fc78-4b9e-b4ad-18317028a7fd",
   "metadata": {},
   "outputs": [
    {
     "data": {
      "text/plain": [
       "0        False\n",
       "1        False\n",
       "2        False\n",
       "3        False\n",
       "4        False\n",
       "         ...  \n",
       "88884    False\n",
       "88885    False\n",
       "88886    False\n",
       "88887    False\n",
       "88888    False\n",
       "Length: 88889, dtype: bool"
      ]
     },
     "execution_count": 13,
     "metadata": {},
     "output_type": "execute_result"
    }
   ],
   "source": [
    "#check for duplicate \n",
    "df1_duplicates=df1.duplicated()\n",
    "df1_duplicates\n"
   ]
  },
  {
   "cell_type": "code",
   "execution_count": 14,
   "id": "3cb9ee13-ed38-4448-bd3a-47d8dc07f07f",
   "metadata": {},
   "outputs": [],
   "source": [
    "#Replace dots with hivens on column names in df1\n",
    "df1.columns = df1.columns.str.replace('.', '_')"
   ]
  },
  {
   "cell_type": "code",
   "execution_count": 15,
   "id": "1a9f1713-d266-41ca-b515-4bdc3cb4ddd1",
   "metadata": {},
   "outputs": [
    {
     "name": "stdout",
     "output_type": "stream",
     "text": [
      "['Event_Id', 'Investigation_Type', 'Accident_Number', 'Event_Date', 'Location', 'Country', 'Injury_Severity', 'Aircraft_damage', 'Registration_Number', 'Make', 'Model', 'Amateur_Built', 'Number_of_Engines', 'Engine_Type', 'Purpose_of_flight', 'Total_Fatal_Injuries', 'Total_Serious_Injuries', 'Total_Minor_Injuries', 'Total_Uninjured', 'Weather_Condition', 'Report_Status', 'Publication_Date']\n"
     ]
    }
   ],
   "source": [
    "#displaying columns \n",
    "print(list(df1.columns))"
   ]
  },
  {
   "cell_type": "code",
   "execution_count": 16,
   "id": "cd51d0d6-0ac9-40e7-bc1d-c9b8e4d0aa0c",
   "metadata": {},
   "outputs": [],
   "source": [
    "#dropping other unecessary columns \n",
    "df1 = df1.drop(['Event_Id', 'Accident_Number','Registration_Number','Publication_Date'], axis=1)"
   ]
  },
  {
   "cell_type": "code",
   "execution_count": 17,
   "id": "114f43ab-ef01-4cdb-a5ac-41698d8d1a3e",
   "metadata": {},
   "outputs": [
    {
     "name": "stdout",
     "output_type": "stream",
     "text": [
      "['Investigation_Type', 'Event_Date', 'Location', 'Country', 'Injury_Severity', 'Aircraft_damage', 'Make', 'Model', 'Amateur_Built', 'Number_of_Engines', 'Engine_Type', 'Purpose_of_flight', 'Total_Fatal_Injuries', 'Total_Serious_Injuries', 'Total_Minor_Injuries', 'Total_Uninjured', 'Weather_Condition', 'Report_Status']\n"
     ]
    }
   ],
   "source": [
    "#displaying remaining columns \n",
    "print(list(df1.columns))"
   ]
  },
  {
   "cell_type": "code",
   "execution_count": 18,
   "id": "e4b95de1-a7e8-40ba-91d5-78402b55c049",
   "metadata": {},
   "outputs": [],
   "source": [
    "#convert Event_Date column to datetime \n",
    "df1['Event_Date'] = pd.to_datetime(df1['Event_Date'])"
   ]
  },
  {
   "cell_type": "code",
   "execution_count": 19,
   "id": "2e76dc13-67e3-46bc-a163-560628f7a7f0",
   "metadata": {},
   "outputs": [],
   "source": [
    "#dropping rows with missing entries \n",
    "df1 = df1.dropna()"
   ]
  },
  {
   "cell_type": "code",
   "execution_count": 20,
   "id": "188c7f56-32df-4a6a-9185-0a18ef7b6160",
   "metadata": {},
   "outputs": [
    {
     "data": {
      "text/plain": [
       "Investigation_Type        0.0\n",
       "Event_Date                0.0\n",
       "Location                  0.0\n",
       "Country                   0.0\n",
       "Injury_Severity           0.0\n",
       "Aircraft_damage           0.0\n",
       "Make                      0.0\n",
       "Model                     0.0\n",
       "Amateur_Built             0.0\n",
       "Number_of_Engines         0.0\n",
       "Engine_Type               0.0\n",
       "Purpose_of_flight         0.0\n",
       "Total_Fatal_Injuries      0.0\n",
       "Total_Serious_Injuries    0.0\n",
       "Total_Minor_Injuries      0.0\n",
       "Total_Uninjured           0.0\n",
       "Weather_Condition         0.0\n",
       "Report_Status             0.0\n",
       "dtype: float64"
      ]
     },
     "execution_count": 20,
     "metadata": {},
     "output_type": "execute_result"
    }
   ],
   "source": [
    "#confirming there are no rows with misisng numbers \n",
    "percent_missing = df1.isnull().sum() * 100 / len(df1)\n",
    "percent_missing"
   ]
  },
  {
   "cell_type": "code",
   "execution_count": 21,
   "id": "42edb0af-507a-4c85-89be-1b028987a19c",
   "metadata": {},
   "outputs": [
    {
     "data": {
      "text/plain": [
       "(63072, 18)"
      ]
     },
     "execution_count": 21,
     "metadata": {},
     "output_type": "execute_result"
    }
   ],
   "source": [
    "#confirming number of remaining rows and columns \n",
    "df1.shape"
   ]
  },
  {
   "cell_type": "code",
   "execution_count": 22,
   "id": "0e8d7be4-772f-4cf8-9274-e8ed40adc3ec",
   "metadata": {},
   "outputs": [],
   "source": [
    "#Removing white spaces in column 'Location'\n",
    "df1['Location'] = df1['Location'].str.replace(' ', '')"
   ]
  },
  {
   "cell_type": "code",
   "execution_count": 23,
   "id": "82696437-c0e7-4854-abdc-dfbd6e076f2e",
   "metadata": {},
   "outputs": [],
   "source": [
    "#Coming up with a column 'location_code' from location\n",
    "df1['Location_code']=df1['Location'].str.split(',').str[1].str.strip()"
   ]
  },
  {
   "cell_type": "code",
   "execution_count": 24,
   "id": "0bd2f5ee-bbf6-4c9a-ad02-e32c83159494",
   "metadata": {},
   "outputs": [
    {
     "name": "stdout",
     "output_type": "stream",
     "text": [
      "['Investigation_Type', 'Event_Date', 'Location', 'Country', 'Injury_Severity', 'Aircraft_damage', 'Make', 'Model', 'Amateur_Built', 'Number_of_Engines', 'Engine_Type', 'Purpose_of_flight', 'Total_Fatal_Injuries', 'Total_Serious_Injuries', 'Total_Minor_Injuries', 'Total_Uninjured', 'Weather_Condition', 'Report_Status', 'Location_code']\n"
     ]
    }
   ],
   "source": [
    "#displaying columns \n",
    "print(list(df1.columns))"
   ]
  },
  {
   "cell_type": "code",
   "execution_count": 25,
   "id": "a0f24b09-56d5-469e-9f44-d28117ce7ba0",
   "metadata": {},
   "outputs": [
    {
     "data": {
      "text/html": [
       "<div>\n",
       "<style scoped>\n",
       "    .dataframe tbody tr th:only-of-type {\n",
       "        vertical-align: middle;\n",
       "    }\n",
       "\n",
       "    .dataframe tbody tr th {\n",
       "        vertical-align: top;\n",
       "    }\n",
       "\n",
       "    .dataframe thead th {\n",
       "        text-align: right;\n",
       "    }\n",
       "</style>\n",
       "<table border=\"1\" class=\"dataframe\">\n",
       "  <thead>\n",
       "    <tr style=\"text-align: right;\">\n",
       "      <th></th>\n",
       "      <th>Investigation_Type</th>\n",
       "      <th>Event_Date</th>\n",
       "      <th>Location</th>\n",
       "      <th>Country</th>\n",
       "      <th>Injury_Severity</th>\n",
       "      <th>Aircraft_damage</th>\n",
       "      <th>Make</th>\n",
       "      <th>Model</th>\n",
       "      <th>Amateur_Built</th>\n",
       "      <th>Number_of_Engines</th>\n",
       "      <th>Engine_Type</th>\n",
       "      <th>Purpose_of_flight</th>\n",
       "      <th>Total_Fatal_Injuries</th>\n",
       "      <th>Total_Serious_Injuries</th>\n",
       "      <th>Total_Minor_Injuries</th>\n",
       "      <th>Total_Uninjured</th>\n",
       "      <th>Weather_Condition</th>\n",
       "      <th>Report_Status</th>\n",
       "      <th>Location_code</th>\n",
       "    </tr>\n",
       "  </thead>\n",
       "  <tbody>\n",
       "    <tr>\n",
       "      <th>0</th>\n",
       "      <td>Accident</td>\n",
       "      <td>1948-10-24</td>\n",
       "      <td>MOOSECREEK,ID</td>\n",
       "      <td>United States</td>\n",
       "      <td>Fatal(2)</td>\n",
       "      <td>Destroyed</td>\n",
       "      <td>Stinson</td>\n",
       "      <td>108-3</td>\n",
       "      <td>No</td>\n",
       "      <td>1.0</td>\n",
       "      <td>Reciprocating</td>\n",
       "      <td>Personal</td>\n",
       "      <td>2.0</td>\n",
       "      <td>0.0</td>\n",
       "      <td>0.0</td>\n",
       "      <td>0.0</td>\n",
       "      <td>UNK</td>\n",
       "      <td>Probable Cause</td>\n",
       "      <td>ID</td>\n",
       "    </tr>\n",
       "  </tbody>\n",
       "</table>\n",
       "</div>"
      ],
      "text/plain": [
       "  Investigation_Type Event_Date       Location        Country Injury_Severity  \\\n",
       "0           Accident 1948-10-24  MOOSECREEK,ID  United States        Fatal(2)   \n",
       "\n",
       "  Aircraft_damage     Make  Model Amateur_Built  Number_of_Engines  \\\n",
       "0       Destroyed  Stinson  108-3            No                1.0   \n",
       "\n",
       "     Engine_Type Purpose_of_flight  Total_Fatal_Injuries  \\\n",
       "0  Reciprocating          Personal                   2.0   \n",
       "\n",
       "   Total_Serious_Injuries  Total_Minor_Injuries  Total_Uninjured  \\\n",
       "0                     0.0                   0.0              0.0   \n",
       "\n",
       "  Weather_Condition   Report_Status Location_code  \n",
       "0               UNK  Probable Cause            ID  "
      ]
     },
     "execution_count": 25,
     "metadata": {},
     "output_type": "execute_result"
    }
   ],
   "source": [
    "#displaying the first 2 rows \n",
    "df1.head(1)"
   ]
  },
  {
   "cell_type": "code",
   "execution_count": 26,
   "id": "5d2f42cd-16ec-43c4-838b-1b4cfc028993",
   "metadata": {},
   "outputs": [
    {
     "name": "stdout",
     "output_type": "stream",
     "text": [
      "Country\n",
      "ATLANTIC OCEAN     0.085616\n",
      "Afghanistan        0.001585\n",
      "American Samoa     0.004756\n",
      "Angola             0.003171\n",
      "Antarctica         0.001585\n",
      "                    ...    \n",
      "UN                 0.007927\n",
      "United Kingdom     0.001585\n",
      "United States     99.131152\n",
      "Venezuela          0.003171\n",
      "West Indies        0.006342\n",
      "Length: 81, dtype: float64\n"
     ]
    }
   ],
   "source": [
    "#checking what what percentage of data is from United States   \n",
    "Countrycount = df1.groupby('Country').size()\n",
    "proportion = (Countrycount / Countrycount.sum()) * 100\n",
    "print(proportion)"
   ]
  },
  {
   "cell_type": "code",
   "execution_count": 27,
   "id": "ea7f2390-bca5-4917-b6c6-ae01ead5beee",
   "metadata": {},
   "outputs": [],
   "source": [
    "#dropping other countries given that USA represent 99% of the data \n",
    "df1 = df1[df1['Country'] == 'United States']"
   ]
  },
  {
   "cell_type": "code",
   "execution_count": 28,
   "id": "14cfa14b-a859-4a7f-8f86-187792225cfa",
   "metadata": {},
   "outputs": [
    {
     "name": "stdout",
     "output_type": "stream",
     "text": [
      "Country\n",
      "United States    100.0\n",
      "dtype: float64\n"
     ]
    }
   ],
   "source": [
    "#checking what what percentage of data is from United States   \n",
    "Countrycount = df1.groupby('Country').size()\n",
    "proportion = (Countrycount / Countrycount.sum()) * 100\n",
    "print(proportion)"
   ]
  },
  {
   "cell_type": "code",
   "execution_count": 29,
   "id": "d10049d0-03ea-443e-ae95-570966219e3a",
   "metadata": {},
   "outputs": [],
   "source": [
    "#changing the name of 'Abbreviation' column to Location_code\n",
    "df2 = df2.rename(columns={'Abbreviation': 'Location_code'})"
   ]
  },
  {
   "cell_type": "code",
   "execution_count": 30,
   "id": "9af648b5-c236-4264-8c1e-68b817c7ebef",
   "metadata": {},
   "outputs": [
    {
     "name": "stdout",
     "output_type": "stream",
     "text": [
      "['Investigation_Type', 'Event_Date', 'Location', 'Country', 'Injury_Severity', 'Aircraft_damage', 'Make', 'Model', 'Amateur_Built', 'Number_of_Engines', 'Engine_Type', 'Purpose_of_flight', 'Total_Fatal_Injuries', 'Total_Serious_Injuries', 'Total_Minor_Injuries', 'Total_Uninjured', 'Weather_Condition', 'Report_Status', 'Location_code', 'US_State']\n"
     ]
    }
   ],
   "source": [
    "# Merge the 2 data sets using the 'ID' column\n",
    "df = pd.merge(df1, df2, on='Location_code')\n",
    "#displaying columns \n",
    "print(list(df.columns))"
   ]
  },
  {
   "cell_type": "code",
   "execution_count": 31,
   "id": "2c89a592-0258-40eb-a8ec-35ef2fc8624e",
   "metadata": {},
   "outputs": [
    {
     "name": "stdout",
     "output_type": "stream",
     "text": [
      "Investigation_Type                object\n",
      "Event_Date                datetime64[ns]\n",
      "Location                          object\n",
      "Country                           object\n",
      "Injury_Severity                   object\n",
      "Aircraft_damage                   object\n",
      "Make                              object\n",
      "Model                             object\n",
      "Amateur_Built                     object\n",
      "Number_of_Engines                float64\n",
      "Engine_Type                       object\n",
      "Purpose_of_flight                 object\n",
      "Total_Fatal_Injuries             float64\n",
      "Total_Serious_Injuries           float64\n",
      "Total_Minor_Injuries             float64\n",
      "Total_Uninjured                  float64\n",
      "Weather_Condition                 object\n",
      "Report_Status                     object\n",
      "Location_code                     object\n",
      "US_State                          object\n",
      "dtype: object\n"
     ]
    }
   ],
   "source": [
    "# Displaying the columns and their data types\n",
    "print(df.dtypes)"
   ]
  },
  {
   "cell_type": "code",
   "execution_count": 41,
   "id": "ccacc624-c2a4-46be-a8ed-cdd77e42fba3",
   "metadata": {},
   "outputs": [],
   "source": [
    "#For data uniformity capitalize data on 'Make' and 'Model'\n",
    "df['Make'] = df['Make'].str.upper()\n",
    "df['Model'] = df['Model'].str.upper()"
   ]
  },
  {
   "cell_type": "code",
   "execution_count": 42,
   "id": "3d711de3-15de-44e1-a090-1ad037f38daf",
   "metadata": {},
   "outputs": [],
   "source": [
    "# Specify the file path to eport df\n",
    "file_path = 'C:/Users/jgatonye/Documents/DS_COURSE/PHASE1/PROJECT1/Project-Phase-1/df.csv'\n",
    "# Export to CSV\n",
    "df.to_csv(file_path, index=False)\n"
   ]
  },
  {
   "cell_type": "markdown",
   "id": "72d3bcc6-1560-492d-93c4-ec3f6caec23f",
   "metadata": {},
   "source": [
    "##**Data Analysis & Visualization**"
   ]
  },
  {
   "cell_type": "code",
   "execution_count": 44,
   "id": "66ef650d-222d-41a6-b68e-6655715168d3",
   "metadata": {},
   "outputs": [
    {
     "name": "stdout",
     "output_type": "stream",
     "text": [
      "Make\n",
      "CESSNA      33.610231\n",
      "PIPER       18.483306\n",
      "BEECH        6.301418\n",
      "BELL         2.778578\n",
      "MOONEY       1.632575\n",
      "GRUMMAN      1.606966\n",
      "BELLANCA     1.402094\n",
      "HUGHES       1.081981\n",
      "BOEING       1.043567\n",
      "ROBINSON     0.934729\n",
      "Name: proportion, dtype: float64\n"
     ]
    }
   ],
   "source": [
    "#Top 10 most used aircraft makes by percentage-We will assume that aircraft makes with the most reported accidents are the most popular and used\n",
    "top_10_makes = df['Make'].value_counts(normalize=True).head(10) * 100\n",
    "print(top_10_makes)"
   ]
  },
  {
   "cell_type": "markdown",
   "id": "7e0d82cf-fcd8-41fc-83da-80b38f48861e",
   "metadata": {},
   "source": [
    "##**Bar chart showing top ten aircrafts with the most accidents**"
   ]
  },
  {
   "cell_type": "code",
   "execution_count": 62,
   "id": "004df510-009c-4fcd-9229-4434ab52d44c",
   "metadata": {},
   "outputs": [
    {
     "data": {
      "image/png": "[encoded data removed]",
      "text/plain": [
       "<Figure size 1000x600 with 1 Axes>"
      ]
     },
     "metadata": {},
     "output_type": "display_data"
    }
   ],
   "source": [
    "# getting a count of every aircraft make and sorting top 10\n",
    "top_ten_aircrafts_makes_accidents = df['Make'].value_counts().head(10)\n",
    "# getting colours\n",
    "colors = ['orange','pink','yellow' 'green', 'blue', 'purple','indigo','violet','black','brown']\n",
    "# Plotting the a bar graph of to 10 aircrafts\n",
    "plt.figure(figsize=(10, 6))\n",
    "bar=top_ten_aircrafts_makes_accidents.plot(kind='bar', color=colors)\n",
    "#capture number of accidents on top of the bar\n",
    "for p in bar.patches:\n",
    "            bar.annotate(f'{int(p.get_height())}', (p.get_x() + p.get_width() / 2., p.get_height()),\n",
    "                        ha='center', va='center', fontsize=10, color='black', xytext=(0, 5),\n",
    "                        textcoords='offset points')\n",
    "      \n",
    "plt.title('Top ten aircrafts with the most accidents')\n",
    "plt.xlabel('Aircraft_Makes')\n",
    "plt.ylabel('Number of accidents')\n",
    "plt.xticks(rotation=45)\n",
    "plt.tight_layout()\n",
    "plt.show()"
   ]
  },
  {
   "cell_type": "code",
   "execution_count": null,
   "id": "88c911d9-ec2b-471f-9005-9bd32cbecd78",
   "metadata": {},
   "outputs": [],
   "source": []
  }
 ],
 "metadata": {
  "kernelspec": {
   "display_name": "Python 3 (ipykernel)",
   "language": "python",
   "name": "python3"
  },
  "language_info": {
   "codemirror_mode": {
    "name": "ipython",
    "version": 3
   },
   "file_extension": ".py",
   "mimetype": "text/x-python",
   "name": "python",
   "nbconvert_exporter": "python",
   "pygments_lexer": "ipython3",
   "version": "3.12.7"
  }
 },
 "nbformat": 4,
 "nbformat_minor": 5
}
