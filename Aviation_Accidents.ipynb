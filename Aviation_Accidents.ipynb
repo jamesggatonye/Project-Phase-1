{
 "cells": [
  {
   "cell_type": "markdown",
   "id": "bd567617-972b-4589-a455-ab74d306cd26",
   "metadata": {},
   "source": [
    "###**CLEANSING & ANALYSIS OF AVIATION ACCIDENTS DATA**"
   ]
  },
  {
   "cell_type": "markdown",
   "id": "9d0f1c1f-5c4b-4868-b63b-4146a58a75ea",
   "metadata": {},
   "source": [
    "##**Introduction**\n",
    "This project aims at cleaning and analyzing data for aviation accidents that occurred in the United States, all its territories as well as international waters. The analysis will derive insights that will help one of my clients to make a decision on the type of aircrafts to purchase."
   ]
  },
  {
   "cell_type": "markdown",
   "id": "be87bcd2-3f9f-44aa-a037-b4168f5b353e",
   "metadata": {},
   "source": [
    "##**Objectives**\n",
    "- Cleaning the data\n",
    "- Analysing the data and getting insights\n",
    "- Determining which aircrafts have low risk\n",
    "- Presenting the findings and actionable insights to the client"
   ]
  },
  {
   "cell_type": "markdown",
   "id": "8006c957-ac81-430c-908b-6095d29fb0b6",
   "metadata": {},
   "source": [
    "##**Data**\n",
    "The analyzed data is contained in 2 CSV files downloaded from Kaggle.com (URL: https://www.kaggle.com/datasets/khsamaha/aviation-accident-database-synopses?select=AviationData.csv)"
   ]
  },
  {
   "cell_type": "markdown",
   "id": "49036bd9-8b22-487f-8bbb-7268a1bca320",
   "metadata": {},
   "source": [
    "##**Data Analysis Methods**\n",
    "\n",
    "The data is analyzed using python data science libraries including:\n",
    "- Pandas: Data manipulation and analysis\n",
    "- Matplotlib: Data visualization \n",
    "- Seaborn: Statistical plotting"
   ]
  },
  {
   "cell_type": "code",
   "execution_count": null,
   "id": "bcac7f1c-d1ad-4996-a105-4d9ab586f087",
   "metadata": {},
   "outputs": [],
   "source": []
  }
 ],
 "metadata": {
  "kernelspec": {
   "display_name": "Python 3 (ipykernel)",
   "language": "python",
   "name": "python3"
  },
  "language_info": {
   "codemirror_mode": {
    "name": "ipython",
    "version": 3
   },
   "file_extension": ".py",
   "mimetype": "text/x-python",
   "name": "python",
   "nbconvert_exporter": "python",
   "pygments_lexer": "ipython3",
   "version": "3.12.7"
  }
 },
 "nbformat": 4,
 "nbformat_minor": 5
}
