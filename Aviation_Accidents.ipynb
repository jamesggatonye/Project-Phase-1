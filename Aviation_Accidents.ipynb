{
 "cells": [
  {
   "cell_type": "markdown",
   "id": "bd567617-972b-4589-a455-ab74d306cd26",
   "metadata": {},
   "source": [
    "###**AVIATION ACCIDENTS DATA CLEANSING & ANALYSIS**"
   ]
  },
  {
   "cell_type": "markdown",
   "id": "9d0f1c1f-5c4b-4868-b63b-4146a58a75ea",
   "metadata": {},
   "source": [
    "##**Introduction**\n",
    "This project aims at cleaning and analyzing data for aviation accidents that occurred in the United States, all its territories as well as international waters. The analysis will derive insights that will help one of my clients to make a decision on the type of aircrafts to purchase."
   ]
  },
  {
   "cell_type": "markdown",
   "id": "be87bcd2-3f9f-44aa-a037-b4168f5b353e",
   "metadata": {},
   "source": [
    "##**Objectives**\n",
    "- Cleaning the data\n",
    "- Analysing the data and getting insights\n",
    "- Determining which aircrafts has low risk\n",
    "- Presenting the findings and actionable insights to the client"
   ]
  },
  {
   "cell_type": "markdown",
   "id": "8006c957-ac81-430c-908b-6095d29fb0b6",
   "metadata": {},
   "source": [
    "##**Data content & Source**\n",
    "The aviation accidents data contains information about aircraft accidents in USA, its territories and international waters. It is contained in 2 CSV files downloaded from Kaggle.com (URL: https://www.kaggle.com/datasets/khsamaha/aviation-accident-database-synopses?select=AviationData.csv) "
   ]
  },
  {
   "cell_type": "markdown",
   "id": "49036bd9-8b22-487f-8bbb-7268a1bca320",
   "metadata": {},
   "source": [
    "##**Data Analysis Methods**\n",
    "\n",
    "The data is analyzed using python libraries including:\n",
    "- Pandas: Data manipulation and analysis\n",
    "- Matplotlib: Data visualization \n",
    "- Seaborn: Statistical plotting"
   ]
  },
  {
   "cell_type": "code",
   "execution_count": 1,
   "id": "bcac7f1c-d1ad-4996-a105-4d9ab586f087",
   "metadata": {},
   "outputs": [],
   "source": [
    "#Importing the necessary python libraries \n",
    "import pandas as pd\n",
    "import matplotlib.pyplot as plt\n",
    "import seaborn as sns "
   ]
  },
  {
   "cell_type": "markdown",
   "id": "76d21527-63e7-474f-a7a9-820cf2e1569f",
   "metadata": {},
   "source": [
    "#**DATA CLEANSING**"
   ]
  },
  {
   "cell_type": "code",
   "execution_count": 2,
   "id": "48228442-e9a1-4632-a49a-120354f0a63e",
   "metadata": {},
   "outputs": [
    {
     "ename": "FileNotFoundError",
     "evalue": "[Errno 2] No such file or directory: 'AviationData.csv'",
     "output_type": "error",
     "traceback": [
      "\u001b[1;31m---------------------------------------------------------------------------\u001b[0m",
      "\u001b[1;31mFileNotFoundError\u001b[0m                         Traceback (most recent call last)",
      "Cell \u001b[1;32mIn[2], line 2\u001b[0m\n\u001b[0;32m      1\u001b[0m \u001b[38;5;66;03m#Importing and displaying the first data set \u001b[39;00m\n\u001b[1;32m----> 2\u001b[0m df1\u001b[38;5;241m=\u001b[39mpd\u001b[38;5;241m.\u001b[39mread_csv(\u001b[38;5;124m\"\u001b[39m\u001b[38;5;124mAviationData.csv\u001b[39m\u001b[38;5;124m\"\u001b[39m,encoding\u001b[38;5;241m=\u001b[39m\u001b[38;5;124m'\u001b[39m\u001b[38;5;124mcp1252\u001b[39m\u001b[38;5;124m'\u001b[39m,low_memory\u001b[38;5;241m=\u001b[39m\u001b[38;5;28;01mFalse\u001b[39;00m)\n\u001b[0;32m      3\u001b[0m df1\u001b[38;5;241m.\u001b[39mhead(\u001b[38;5;241m2\u001b[39m)\n",
      "File \u001b[1;32m~\\AppData\\Local\\anaconda3\\Lib\\site-packages\\pandas\\io\\parsers\\readers.py:1026\u001b[0m, in \u001b[0;36mread_csv\u001b[1;34m(filepath_or_buffer, sep, delimiter, header, names, index_col, usecols, dtype, engine, converters, true_values, false_values, skipinitialspace, skiprows, skipfooter, nrows, na_values, keep_default_na, na_filter, verbose, skip_blank_lines, parse_dates, infer_datetime_format, keep_date_col, date_parser, date_format, dayfirst, cache_dates, iterator, chunksize, compression, thousands, decimal, lineterminator, quotechar, quoting, doublequote, escapechar, comment, encoding, encoding_errors, dialect, on_bad_lines, delim_whitespace, low_memory, memory_map, float_precision, storage_options, dtype_backend)\u001b[0m\n\u001b[0;32m   1013\u001b[0m kwds_defaults \u001b[38;5;241m=\u001b[39m _refine_defaults_read(\n\u001b[0;32m   1014\u001b[0m     dialect,\n\u001b[0;32m   1015\u001b[0m     delimiter,\n\u001b[1;32m   (...)\u001b[0m\n\u001b[0;32m   1022\u001b[0m     dtype_backend\u001b[38;5;241m=\u001b[39mdtype_backend,\n\u001b[0;32m   1023\u001b[0m )\n\u001b[0;32m   1024\u001b[0m kwds\u001b[38;5;241m.\u001b[39mupdate(kwds_defaults)\n\u001b[1;32m-> 1026\u001b[0m \u001b[38;5;28;01mreturn\u001b[39;00m _read(filepath_or_buffer, kwds)\n",
      "File \u001b[1;32m~\\AppData\\Local\\anaconda3\\Lib\\site-packages\\pandas\\io\\parsers\\readers.py:620\u001b[0m, in \u001b[0;36m_read\u001b[1;34m(filepath_or_buffer, kwds)\u001b[0m\n\u001b[0;32m    617\u001b[0m _validate_names(kwds\u001b[38;5;241m.\u001b[39mget(\u001b[38;5;124m\"\u001b[39m\u001b[38;5;124mnames\u001b[39m\u001b[38;5;124m\"\u001b[39m, \u001b[38;5;28;01mNone\u001b[39;00m))\n\u001b[0;32m    619\u001b[0m \u001b[38;5;66;03m# Create the parser.\u001b[39;00m\n\u001b[1;32m--> 620\u001b[0m parser \u001b[38;5;241m=\u001b[39m TextFileReader(filepath_or_buffer, \u001b[38;5;241m*\u001b[39m\u001b[38;5;241m*\u001b[39mkwds)\n\u001b[0;32m    622\u001b[0m \u001b[38;5;28;01mif\u001b[39;00m chunksize \u001b[38;5;129;01mor\u001b[39;00m iterator:\n\u001b[0;32m    623\u001b[0m     \u001b[38;5;28;01mreturn\u001b[39;00m parser\n",
      "File \u001b[1;32m~\\AppData\\Local\\anaconda3\\Lib\\site-packages\\pandas\\io\\parsers\\readers.py:1620\u001b[0m, in \u001b[0;36mTextFileReader.__init__\u001b[1;34m(self, f, engine, **kwds)\u001b[0m\n\u001b[0;32m   1617\u001b[0m     \u001b[38;5;28mself\u001b[39m\u001b[38;5;241m.\u001b[39moptions[\u001b[38;5;124m\"\u001b[39m\u001b[38;5;124mhas_index_names\u001b[39m\u001b[38;5;124m\"\u001b[39m] \u001b[38;5;241m=\u001b[39m kwds[\u001b[38;5;124m\"\u001b[39m\u001b[38;5;124mhas_index_names\u001b[39m\u001b[38;5;124m\"\u001b[39m]\n\u001b[0;32m   1619\u001b[0m \u001b[38;5;28mself\u001b[39m\u001b[38;5;241m.\u001b[39mhandles: IOHandles \u001b[38;5;241m|\u001b[39m \u001b[38;5;28;01mNone\u001b[39;00m \u001b[38;5;241m=\u001b[39m \u001b[38;5;28;01mNone\u001b[39;00m\n\u001b[1;32m-> 1620\u001b[0m \u001b[38;5;28mself\u001b[39m\u001b[38;5;241m.\u001b[39m_engine \u001b[38;5;241m=\u001b[39m \u001b[38;5;28mself\u001b[39m\u001b[38;5;241m.\u001b[39m_make_engine(f, \u001b[38;5;28mself\u001b[39m\u001b[38;5;241m.\u001b[39mengine)\n",
      "File \u001b[1;32m~\\AppData\\Local\\anaconda3\\Lib\\site-packages\\pandas\\io\\parsers\\readers.py:1880\u001b[0m, in \u001b[0;36mTextFileReader._make_engine\u001b[1;34m(self, f, engine)\u001b[0m\n\u001b[0;32m   1878\u001b[0m     \u001b[38;5;28;01mif\u001b[39;00m \u001b[38;5;124m\"\u001b[39m\u001b[38;5;124mb\u001b[39m\u001b[38;5;124m\"\u001b[39m \u001b[38;5;129;01mnot\u001b[39;00m \u001b[38;5;129;01min\u001b[39;00m mode:\n\u001b[0;32m   1879\u001b[0m         mode \u001b[38;5;241m+\u001b[39m\u001b[38;5;241m=\u001b[39m \u001b[38;5;124m\"\u001b[39m\u001b[38;5;124mb\u001b[39m\u001b[38;5;124m\"\u001b[39m\n\u001b[1;32m-> 1880\u001b[0m \u001b[38;5;28mself\u001b[39m\u001b[38;5;241m.\u001b[39mhandles \u001b[38;5;241m=\u001b[39m get_handle(\n\u001b[0;32m   1881\u001b[0m     f,\n\u001b[0;32m   1882\u001b[0m     mode,\n\u001b[0;32m   1883\u001b[0m     encoding\u001b[38;5;241m=\u001b[39m\u001b[38;5;28mself\u001b[39m\u001b[38;5;241m.\u001b[39moptions\u001b[38;5;241m.\u001b[39mget(\u001b[38;5;124m\"\u001b[39m\u001b[38;5;124mencoding\u001b[39m\u001b[38;5;124m\"\u001b[39m, \u001b[38;5;28;01mNone\u001b[39;00m),\n\u001b[0;32m   1884\u001b[0m     compression\u001b[38;5;241m=\u001b[39m\u001b[38;5;28mself\u001b[39m\u001b[38;5;241m.\u001b[39moptions\u001b[38;5;241m.\u001b[39mget(\u001b[38;5;124m\"\u001b[39m\u001b[38;5;124mcompression\u001b[39m\u001b[38;5;124m\"\u001b[39m, \u001b[38;5;28;01mNone\u001b[39;00m),\n\u001b[0;32m   1885\u001b[0m     memory_map\u001b[38;5;241m=\u001b[39m\u001b[38;5;28mself\u001b[39m\u001b[38;5;241m.\u001b[39moptions\u001b[38;5;241m.\u001b[39mget(\u001b[38;5;124m\"\u001b[39m\u001b[38;5;124mmemory_map\u001b[39m\u001b[38;5;124m\"\u001b[39m, \u001b[38;5;28;01mFalse\u001b[39;00m),\n\u001b[0;32m   1886\u001b[0m     is_text\u001b[38;5;241m=\u001b[39mis_text,\n\u001b[0;32m   1887\u001b[0m     errors\u001b[38;5;241m=\u001b[39m\u001b[38;5;28mself\u001b[39m\u001b[38;5;241m.\u001b[39moptions\u001b[38;5;241m.\u001b[39mget(\u001b[38;5;124m\"\u001b[39m\u001b[38;5;124mencoding_errors\u001b[39m\u001b[38;5;124m\"\u001b[39m, \u001b[38;5;124m\"\u001b[39m\u001b[38;5;124mstrict\u001b[39m\u001b[38;5;124m\"\u001b[39m),\n\u001b[0;32m   1888\u001b[0m     storage_options\u001b[38;5;241m=\u001b[39m\u001b[38;5;28mself\u001b[39m\u001b[38;5;241m.\u001b[39moptions\u001b[38;5;241m.\u001b[39mget(\u001b[38;5;124m\"\u001b[39m\u001b[38;5;124mstorage_options\u001b[39m\u001b[38;5;124m\"\u001b[39m, \u001b[38;5;28;01mNone\u001b[39;00m),\n\u001b[0;32m   1889\u001b[0m )\n\u001b[0;32m   1890\u001b[0m \u001b[38;5;28;01massert\u001b[39;00m \u001b[38;5;28mself\u001b[39m\u001b[38;5;241m.\u001b[39mhandles \u001b[38;5;129;01mis\u001b[39;00m \u001b[38;5;129;01mnot\u001b[39;00m \u001b[38;5;28;01mNone\u001b[39;00m\n\u001b[0;32m   1891\u001b[0m f \u001b[38;5;241m=\u001b[39m \u001b[38;5;28mself\u001b[39m\u001b[38;5;241m.\u001b[39mhandles\u001b[38;5;241m.\u001b[39mhandle\n",
      "File \u001b[1;32m~\\AppData\\Local\\anaconda3\\Lib\\site-packages\\pandas\\io\\common.py:873\u001b[0m, in \u001b[0;36mget_handle\u001b[1;34m(path_or_buf, mode, encoding, compression, memory_map, is_text, errors, storage_options)\u001b[0m\n\u001b[0;32m    868\u001b[0m \u001b[38;5;28;01melif\u001b[39;00m \u001b[38;5;28misinstance\u001b[39m(handle, \u001b[38;5;28mstr\u001b[39m):\n\u001b[0;32m    869\u001b[0m     \u001b[38;5;66;03m# Check whether the filename is to be opened in binary mode.\u001b[39;00m\n\u001b[0;32m    870\u001b[0m     \u001b[38;5;66;03m# Binary mode does not support 'encoding' and 'newline'.\u001b[39;00m\n\u001b[0;32m    871\u001b[0m     \u001b[38;5;28;01mif\u001b[39;00m ioargs\u001b[38;5;241m.\u001b[39mencoding \u001b[38;5;129;01mand\u001b[39;00m \u001b[38;5;124m\"\u001b[39m\u001b[38;5;124mb\u001b[39m\u001b[38;5;124m\"\u001b[39m \u001b[38;5;129;01mnot\u001b[39;00m \u001b[38;5;129;01min\u001b[39;00m ioargs\u001b[38;5;241m.\u001b[39mmode:\n\u001b[0;32m    872\u001b[0m         \u001b[38;5;66;03m# Encoding\u001b[39;00m\n\u001b[1;32m--> 873\u001b[0m         handle \u001b[38;5;241m=\u001b[39m \u001b[38;5;28mopen\u001b[39m(\n\u001b[0;32m    874\u001b[0m             handle,\n\u001b[0;32m    875\u001b[0m             ioargs\u001b[38;5;241m.\u001b[39mmode,\n\u001b[0;32m    876\u001b[0m             encoding\u001b[38;5;241m=\u001b[39mioargs\u001b[38;5;241m.\u001b[39mencoding,\n\u001b[0;32m    877\u001b[0m             errors\u001b[38;5;241m=\u001b[39merrors,\n\u001b[0;32m    878\u001b[0m             newline\u001b[38;5;241m=\u001b[39m\u001b[38;5;124m\"\u001b[39m\u001b[38;5;124m\"\u001b[39m,\n\u001b[0;32m    879\u001b[0m         )\n\u001b[0;32m    880\u001b[0m     \u001b[38;5;28;01melse\u001b[39;00m:\n\u001b[0;32m    881\u001b[0m         \u001b[38;5;66;03m# Binary mode\u001b[39;00m\n\u001b[0;32m    882\u001b[0m         handle \u001b[38;5;241m=\u001b[39m \u001b[38;5;28mopen\u001b[39m(handle, ioargs\u001b[38;5;241m.\u001b[39mmode)\n",
      "\u001b[1;31mFileNotFoundError\u001b[0m: [Errno 2] No such file or directory: 'AviationData.csv'"
     ]
    }
   ],
   "source": [
    "#Importing and displaying the first data set \n",
    "df1=pd.read_csv(\"AviationData.csv\",encoding='cp1252',low_memory=False)\n",
    "df1.head(2)"
   ]
  },
  {
   "cell_type": "code",
   "execution_count": null,
   "id": "f7bcb18d-4a8e-4ef0-bd30-ab5d766d51d3",
   "metadata": {},
   "outputs": [],
   "source": [
    "#Importing and displaying the second data set \n",
    "df2=pd.read_csv(\"USState_Codes.csv\",encoding='cp1252',low_memory=False)\n",
    "df2.head(2)"
   ]
  },
  {
   "cell_type": "code",
   "execution_count": null,
   "id": "858d1169-8ebf-42da-a7b4-afd96f4db21d",
   "metadata": {},
   "outputs": [],
   "source": [
    "#Checking the dimensions of the first data sets \n",
    "df1.shape"
   ]
  },
  {
   "cell_type": "code",
   "execution_count": null,
   "id": "7fa44093-94f4-44a8-9071-818218e941a1",
   "metadata": {},
   "outputs": [],
   "source": [
    "#Checking the dimensions of the second data sets \n",
    "df2.shape"
   ]
  },
  {
   "cell_type": "code",
   "execution_count": null,
   "id": "3fb01272-f290-4e07-8cf4-29cb51bf0f28",
   "metadata": {},
   "outputs": [],
   "source": [
    "#Getting a summary of the first data set \n",
    "df1.info()"
   ]
  },
  {
   "cell_type": "code",
   "execution_count": null,
   "id": "1fe9904f-1c42-43c2-a007-b782bdfa566b",
   "metadata": {},
   "outputs": [],
   "source": [
    "#Getting a summary of the second data set \n",
    "df2.info()"
   ]
  },
  {
   "cell_type": "code",
   "execution_count": null,
   "id": "06041316-f54a-4a5c-9573-bab666cc871e",
   "metadata": {},
   "outputs": [],
   "source": [
    "# getting the percentage of null values in each column (first data set)\n",
    "percent_missing = df1.isnull().sum() * 100 / len(df1)\n",
    "percent_missing"
   ]
  },
  {
   "cell_type": "code",
   "execution_count": null,
   "id": "d9e1fcea-4931-4f4e-8b28-98a9ed170733",
   "metadata": {},
   "outputs": [],
   "source": [
    "# getting the percentage of null values in each column (second data set)\n",
    "percent_missing = df2.isnull().sum() * 100 / len(df2)\n",
    "percent_missing"
   ]
  },
  {
   "cell_type": "code",
   "execution_count": null,
   "id": "c5616f59-75b4-419b-82ae-6d28ea10a387",
   "metadata": {},
   "outputs": [],
   "source": [
    "#dropping columns with more than 30% of missing data \n",
    "threshold = 0.3\n",
    "min_count = int((1 - threshold) * len(df1))\n",
    "df1 = df1.dropna(axis=1, thresh=min_count)"
   ]
  },
  {
   "cell_type": "code",
   "execution_count": null,
   "id": "dbf277ca-1e6e-4608-a19c-21baa44d2611",
   "metadata": {},
   "outputs": [],
   "source": [
    "# getting the percentage of null values in the new data set\n",
    "percent_missing = df1.isnull().sum() * 100 / len(df1)\n",
    "percent_missing"
   ]
  },
  {
   "cell_type": "code",
   "execution_count": null,
   "id": "0bd75aef-d761-4b1a-8c3e-385ed5bfe151",
   "metadata": {},
   "outputs": [],
   "source": [
    "#checking the dimension of the new data frame 1\n",
    "df1.shape"
   ]
  },
  {
   "cell_type": "code",
   "execution_count": null,
   "id": "6aedc0fd-fc78-4b9e-b4ad-18317028a7fd",
   "metadata": {},
   "outputs": [],
   "source": [
    "#check for duplicate \n",
    "df1_duplicates=df1.duplicated()\n",
    "df1_duplicates\n"
   ]
  },
  {
   "cell_type": "code",
   "execution_count": null,
   "id": "3cb9ee13-ed38-4448-bd3a-47d8dc07f07f",
   "metadata": {},
   "outputs": [],
   "source": [
    "#Replace full stop with hivens on column names in df1\n",
    "df1.columns = df1.columns.str.replace('.', '_')"
   ]
  },
  {
   "cell_type": "code",
   "execution_count": null,
   "id": "1a9f1713-d266-41ca-b515-4bdc3cb4ddd1",
   "metadata": {},
   "outputs": [],
   "source": [
    "#displaying columns \n",
    "print(list(df1.columns))"
   ]
  },
  {
   "cell_type": "code",
   "execution_count": null,
   "id": "cd51d0d6-0ac9-40e7-bc1d-c9b8e4d0aa0c",
   "metadata": {},
   "outputs": [],
   "source": [
    "#dropping other unecessary columns \n",
    "df1 = df1.drop(['Event_Id', 'Accident_Number','Registration_Number','Publication_Date'], axis=1)"
   ]
  },
  {
   "cell_type": "code",
   "execution_count": null,
   "id": "114f43ab-ef01-4cdb-a5ac-41698d8d1a3e",
   "metadata": {},
   "outputs": [],
   "source": [
    "#displaying remaining columns \n",
    "print(list(df1.columns))"
   ]
  },
  {
   "cell_type": "code",
   "execution_count": null,
   "id": "e4b95de1-a7e8-40ba-91d5-78402b55c049",
   "metadata": {},
   "outputs": [],
   "source": [
    "#convert Event_Date column to datetime \n",
    "df1['Event_Date'] = pd.to_datetime(df1['Event_Date'])"
   ]
  },
  {
   "cell_type": "code",
   "execution_count": null,
   "id": "2e76dc13-67e3-46bc-a163-560628f7a7f0",
   "metadata": {},
   "outputs": [],
   "source": [
    "#dropping rows with missing entries \n",
    "df1 = df1.dropna()"
   ]
  },
  {
   "cell_type": "code",
   "execution_count": null,
   "id": "188c7f56-32df-4a6a-9185-0a18ef7b6160",
   "metadata": {},
   "outputs": [],
   "source": [
    "#confirming there are no rows with misisng numbers \n",
    "percent_missing = df1.isnull().sum() * 100 / len(df1)\n",
    "percent_missing"
   ]
  },
  {
   "cell_type": "code",
   "execution_count": null,
   "id": "42edb0af-507a-4c85-89be-1b028987a19c",
   "metadata": {},
   "outputs": [],
   "source": [
    "#confirming number of remaining rows and columns \n",
    "df1.shape"
   ]
  },
  {
   "cell_type": "code",
   "execution_count": null,
   "id": "0e8d7be4-772f-4cf8-9274-e8ed40adc3ec",
   "metadata": {},
   "outputs": [],
   "source": [
    "#Removing white spaces in column 'Location'\n",
    "df1['Location'] = df1['Location'].str.replace(' ', '')"
   ]
  },
  {
   "cell_type": "code",
   "execution_count": null,
   "id": "82696437-c0e7-4854-abdc-dfbd6e076f2e",
   "metadata": {},
   "outputs": [],
   "source": [
    "#Coming up with a column 'location_code' from location\n",
    "df1['Location_code']=df1['Location'].str.split(',').str[1].str.strip()"
   ]
  },
  {
   "cell_type": "code",
   "execution_count": null,
   "id": "0bd2f5ee-bbf6-4c9a-ad02-e32c83159494",
   "metadata": {},
   "outputs": [],
   "source": [
    "#displaying columns \n",
    "print(list(df1.columns))"
   ]
  },
  {
   "cell_type": "code",
   "execution_count": null,
   "id": "a0f24b09-56d5-469e-9f44-d28117ce7ba0",
   "metadata": {},
   "outputs": [],
   "source": [
    "#displaying the first 2 rows \n",
    "df1.head(1)"
   ]
  },
  {
   "cell_type": "code",
   "execution_count": null,
   "id": "5d2f42cd-16ec-43c4-838b-1b4cfc028993",
   "metadata": {},
   "outputs": [],
   "source": [
    "#checking what percentage of data is from United States   \n",
    "Countrycount = df1.groupby('Country').size()\n",
    "proportion = (Countrycount / Countrycount.sum()) * 100\n",
    "print(proportion)"
   ]
  },
  {
   "cell_type": "code",
   "execution_count": null,
   "id": "ea7f2390-bca5-4917-b6c6-ae01ead5beee",
   "metadata": {},
   "outputs": [],
   "source": [
    "#dropping other countries given that USA represent 99% of the data \n",
    "df1 = df1[df1['Country'] == 'United States']"
   ]
  },
  {
   "cell_type": "code",
   "execution_count": null,
   "id": "14cfa14b-a859-4a7f-8f86-187792225cfa",
   "metadata": {},
   "outputs": [],
   "source": [
    "#checking what percentage of data is from United States   \n",
    "Countrycount = df1.groupby('Country').size()\n",
    "proportion = (Countrycount / Countrycount.sum()) * 100\n",
    "print(proportion)"
   ]
  },
  {
   "cell_type": "code",
   "execution_count": null,
   "id": "d10049d0-03ea-443e-ae95-570966219e3a",
   "metadata": {},
   "outputs": [],
   "source": [
    "#changing the name of 'Abbreviation' column to Location_code\n",
    "df2 = df2.rename(columns={'Abbreviation': 'Location_code'})"
   ]
  },
  {
   "cell_type": "code",
   "execution_count": null,
   "id": "9af648b5-c236-4264-8c1e-68b817c7ebef",
   "metadata": {},
   "outputs": [],
   "source": [
    "# Merge the 2 data sets using the 'Location_code' column\n",
    "df = pd.merge(df1, df2, on='Location_code')\n",
    "#displaying columns \n",
    "print(list(df.columns))"
   ]
  },
  {
   "cell_type": "code",
   "execution_count": null,
   "id": "2c89a592-0258-40eb-a8ec-35ef2fc8624e",
   "metadata": {},
   "outputs": [],
   "source": [
    "# Displaying the columns and their data types\n",
    "print(df.dtypes)"
   ]
  },
  {
   "cell_type": "code",
   "execution_count": null,
   "id": "ccacc624-c2a4-46be-a8ed-cdd77e42fba3",
   "metadata": {},
   "outputs": [],
   "source": [
    "#For data uniformity capitalize data under 'Make' and 'Model'\n",
    "df['Make'] = df['Make'].str.upper()\n",
    "df['Model'] = df['Model'].str.upper()"
   ]
  },
  {
   "cell_type": "code",
   "execution_count": null,
   "id": "32456368-8b0d-4e73-84c8-db65bd9223b8",
   "metadata": {},
   "outputs": [],
   "source": [
    "#create a column called year from 'Event_Date' column \n",
    "df['Event_Date'] = pd.to_datetime(df['Event_Date'], format='%Y-%m-%d')\n",
    "df['Year']=df['Event_Date'].dt.strftime('%Y')"
   ]
  },
  {
   "cell_type": "code",
   "execution_count": null,
   "id": "3d711de3-15de-44e1-a090-1ad037f38daf",
   "metadata": {},
   "outputs": [],
   "source": [
    "# Specify the file path to eport df\n",
    "file_path = 'C:/Users/jgatonye/Documents/DS_COURSE/PHASE1/PROJECT1/Project-Phase-1/df.csv'\n",
    "# Export to CSV\n",
    "df.to_csv(file_path, index=False)\n"
   ]
  },
  {
   "cell_type": "markdown",
   "id": "72d3bcc6-1560-492d-93c4-ec3f6caec23f",
   "metadata": {},
   "source": [
    "##**Data Analysis & Visualization**"
   ]
  },
  {
   "cell_type": "code",
   "execution_count": null,
   "id": "66ef650d-222d-41a6-b68e-6655715168d3",
   "metadata": {},
   "outputs": [],
   "source": [
    "#Top 10 most used aircraft makes by percentage-We will assume that aircraft makes with the most reported accidents are the most popular and used\n",
    "top_10_makes = df['Make'].value_counts(normalize=True).head(10) * 100\n",
    "print(top_10_makes)"
   ]
  },
  {
   "cell_type": "markdown",
   "id": "7e0d82cf-fcd8-41fc-83da-80b38f48861e",
   "metadata": {},
   "source": [
    "##**Bar chart showing top ten aircrafts with the most accidents**"
   ]
  },
  {
   "cell_type": "code",
   "execution_count": null,
   "id": "004df510-009c-4fcd-9229-4434ab52d44c",
   "metadata": {},
   "outputs": [],
   "source": [
    "# getting a count of every aircraft make and sorting top 10\n",
    "top_ten_aircrafts_makes_accidents = df['Make'].value_counts().head(10)\n",
    "# getting colours\n",
    "colors = ['orange','pink','yellow' 'green', 'blue', 'purple','indigo','violet','black','brown']\n",
    "# Plotting the a bar graph of to 10 aircrafts\n",
    "plt.figure(figsize=(10, 6))\n",
    "bar=top_ten_aircrafts_makes_accidents.plot(kind='bar', color=colors)\n",
    "#capture number of accidents on top of the bar\n",
    "for p in bar.patches:\n",
    "            bar.annotate(f'{int(p.get_height())}', (p.get_x() + p.get_width() / 2., p.get_height()),\n",
    "                        ha='center', va='center', fontsize=10, color='black', xytext=(0, 5),\n",
    "                        textcoords='offset points')\n",
    "      \n",
    "plt.title('Top ten aircrafts with the most accidents')\n",
    "plt.xlabel('Aircraft_Makes')\n",
    "plt.ylabel('Number of accidents')\n",
    "plt.xticks(rotation=45)\n",
    "plt.tight_layout()\n",
    "plt.show()"
   ]
  },
  {
   "cell_type": "markdown",
   "id": "37d55be7-2b73-4fa2-9631-42630e53d9d1",
   "metadata": {},
   "source": [
    "##***Deductions from the above chart:***\n",
    "- _Top 10 flown aircrafts in the USA include Cessna,Piper,Beech,Bell,Mooney,Grumman,Bellanca,Hughes,Boeing,Robinson_\n",
    "- _Top 3 aircrafts with the most accidents include Cessna,Piper,Beech_\n",
    "- _Top 3 aircrafts with the least accidents include Robinson,Boeing,Hughes_"
   ]
  },
  {
   "cell_type": "markdown",
   "id": "ffc8b93d-b407-4dfb-bf28-1118a2a93a72",
   "metadata": {},
   "source": [
    "##**A pivot table showing total number of accidents for top 10 aircrafts since 2010**"
   ]
  },
  {
   "cell_type": "code",
   "execution_count": null,
   "id": "f3c9ab76-6cda-4924-a150-0c47f816d577",
   "metadata": {},
   "outputs": [],
   "source": [
    "#Generating new data set showing the total number of accidents for the top 10 aircrafts since 2010\n",
    "df['Year'] = df['Year'].astype(int)\n",
    "df_3 = df[df['Year'] > 2009]\n",
    "# List of selected variables to include in the pivot\n",
    "selected_variables = ['CESSNA', 'BOEING','PIPER','BEECH','BELL','MOONEY','GRUMMAN','BELLANCA','HUGHES','BOEING','ROBINSON']\n",
    "# Filtering the data set\n",
    "filtered_df = df_3[df_3['Make'].isin(selected_variables)]\n",
    "# Create a pivot table to count accidents of each aircraft per 'year'\n",
    "pivot = pd.pivot_table(filtered_df, index='Year', columns='Make', aggfunc='size', fill_value=0)\n",
    "pivot"
   ]
  },
  {
   "cell_type": "markdown",
   "id": "2bdf1a2b-fa6b-47cd-89b4-d51946b1abb3",
   "metadata": {},
   "source": [
    "##**A line graph showing top ten aircrafts accidents trends since 2010**"
   ]
  },
  {
   "cell_type": "code",
   "execution_count": null,
   "id": "66d75652-7142-4c55-928b-a6538b222a30",
   "metadata": {},
   "outputs": [],
   "source": [
    "plt.figure(figsize=(10, 6))\n",
    "plt.plot(pivot.index, pivot['CESSNA'], label='CESSNA', marker='o')\n",
    "plt.plot(pivot.index, pivot['BOEING'], label='BOEING', marker='o')\n",
    "plt.plot(pivot.index, pivot['PIPER'], label='PIPER', marker='o')\n",
    "plt.plot(pivot.index, pivot['BEECH'], label='BEECH', marker='o')\n",
    "plt.plot(pivot.index, pivot['BELL'], label='BELL', marker='o')\n",
    "plt.plot(pivot.index, pivot['MOONEY'], label='MOONEY', marker='o')\n",
    "plt.plot(pivot.index, pivot['GRUMMAN'], label='GRUMMAN', marker='o')\n",
    "plt.plot(pivot.index, pivot['BELLANCA'], label='BELLANCA', marker='o')\n",
    "plt.plot(pivot.index, pivot['HUGHES'], label='HUGHES', marker='o')\n",
    "plt.plot(pivot.index, pivot['ROBINSON'], label='ROBINSON', marker='o')\n",
    "# Adding labels and title\n",
    "plt.xlabel('Year')\n",
    "plt.ylabel('Number of accidents')\n",
    "plt.title('Trends in aviation accidents for the top 10 popular aircrafts since 2010')\n",
    "plt.legend()\n",
    "plt.grid(True)\n",
    "plt.xticks(rotation=45)  # Rotate year labels for better readability\n",
    "\n",
    "# Show the plot\n",
    "plt.tight_layout()\n",
    "plt.show()"
   ]
  },
  {
   "cell_type": "markdown",
   "id": "b75e4c9c-0295-4540-8719-2367b7ebe954",
   "metadata": {},
   "source": [
    "##***Deductions from the above chart:***\n",
    "- _Aviation accidents have been reducing over time probably due to improvement in technology, training and regulations_\n",
    "- _Cessna, Mooney and Piper aircraft accidents were in a downward trend but went up in 2022 contrary to the downward trend sustained by the other aircrafts_"
   ]
  },
  {
   "cell_type": "code",
   "execution_count": null,
   "id": "5ce84308-6511-42fa-b778-75e0545f0dce",
   "metadata": {},
   "outputs": [],
   "source": [
    "##**We exclude top 3 aircrafts with the most accidents from the data for the line graph to give a better picture**"
   ]
  },
  {
   "cell_type": "code",
   "execution_count": null,
   "id": "e0ad42e0-5f1c-490b-96b1-028027ccb38e",
   "metadata": {},
   "outputs": [],
   "source": [
    "plt.figure(figsize=(10, 6))\n",
    "plt.plot(pivot.index, pivot['BOEING'], label='BOEING', marker='o')\n",
    "plt.plot(pivot.index, pivot['BELL'], label='BELL', marker='o')\n",
    "plt.plot(pivot.index, pivot['MOONEY'], label='MOONEY', marker='o')\n",
    "plt.plot(pivot.index, pivot['GRUMMAN'], label='GRUMMAN', marker='o')\n",
    "plt.plot(pivot.index, pivot['BELLANCA'], label='BELLANCA', marker='o')\n",
    "plt.plot(pivot.index, pivot['HUGHES'], label='HUGHES', marker='o')\n",
    "plt.plot(pivot.index, pivot['ROBINSON'], label='ROBINSON', marker='o')\n",
    "# Adding labels and title\n",
    "plt.xlabel('Year')\n",
    "plt.ylabel('Count')\n",
    "plt.title('Trends in aviation accidents for the top 10 popular aircrafts since 2010 exluding Cessna, Piper, and Beech')\n",
    "plt.legend()\n",
    "plt.grid(True)\n",
    "plt.xticks(rotation=45)  # Rotate year labels for better readability\n",
    "\n",
    "# Show the plot\n",
    "plt.tight_layout()\n",
    "plt.show()"
   ]
  },
  {
   "cell_type": "markdown",
   "id": "1f83e051-4a5b-4578-84d6-eed814777978",
   "metadata": {},
   "source": [
    "##Deductions from the above chart:\n",
    "- _Top 5 safest aircrafts with steadily decreasing number of accidents over the last 10 years include_\n",
    "  1. _Robinson_\n",
    "  2. _Grumman_\n",
    "  3. _Hughes_\n",
    "  4. _Boeing_\n",
    "  5. _Bellanca_\n",
    "\n",
    "\n",
    "\n"
   ]
  },
  {
   "cell_type": "markdown",
   "id": "4af0234c-8c3b-4afc-b4d8-5ab69c20c67f",
   "metadata": {},
   "source": [
    "##**A bar graph showing the number of accudents for the 5 safest aircrafts by purpose**"
   ]
  },
  {
   "cell_type": "code",
   "execution_count": null,
   "id": "66c19914-8651-44d8-8e52-26fc7e6c9d50",
   "metadata": {},
   "outputs": [],
   "source": [
    "# Generate data for the 5 aircrafts with the least accidents from 2010 henceforth for Business and Personal flights\n",
    "df4 = df[(df['Year'] >= 2010) & (df['Make'].isin(['ROBINSON', 'BOEING', 'HUGHES','BELLANCA','GRUMMAN'])) & (df['Purpose_of_flight'].isin(['Business', 'Personal']))]\n",
    "\n",
    "# Group the data by 'Make' and 'Purpose_of_flight' and then count the number of accidents\n",
    "grouped_data = df4.groupby(['Make', 'Purpose_of_flight']).size().unstack()\n",
    "\n",
    "# Plotting the bar chart\n",
    "grouped_data.plot(kind='bar', figsize=(10, 6))\n",
    "\n",
    "# Labels for the bar chart\n",
    "plt.title('Number of Accidents by Purpose and Aircraft Type from 2010')\n",
    "plt.xlabel('Aircraft Make')\n",
    "plt.ylabel('Number of Accidents')\n",
    "plt.xticks(rotation=0)\n",
    "plt.legend(title=\"Flight Purpose\")\n",
    "plt.grid(axis='y', linestyle='-', alpha=0.7)\n",
    "# Show the plot\n",
    "plt.show()"
   ]
  },
  {
   "cell_type": "markdown",
   "id": "1d1265ad-d752-4d60-911b-e30c128d2783",
   "metadata": {},
   "source": [
    "##Deductions from the above chart:\n",
    "  1. _Boeing and Grumman Aircrafts are the safest for the business flights because they did not have any accidents from 2010_\n",
    "  2. Grumman are the safest for the personal flights-"
   ]
  },
  {
   "cell_type": "code",
   "execution_count": null,
   "id": "9e4c0c93-187e-4d11-b2b9-b8e8f17bbb2b",
   "metadata": {},
   "outputs": [],
   "source": [
    "##**A bar graph showing the number of accidents for the 5 safest aircrafts by the Number of Engines**"
   ]
  },
  {
   "cell_type": "code",
   "execution_count": null,
   "id": "ff14023f-cd29-4ecf-82e8-2699a8cc727a",
   "metadata": {},
   "outputs": [],
   "source": [
    "# Generate data for the 5 aircrafts with the least accidents from 2010 henceforth for Business and Personal flights\n",
    "df4 = df[(df['Year'] >= 2010) & (df['Make'].isin(['ROBINSON', 'BOEING', 'HUGHES','BELLANCA','GRUMMAN'])) & (df['Number_of_Engines'].isin([1, 2,3,4]))]\n",
    "\n",
    "# Group the data by 'Make' and 'Purpose_of_flight' and then count the number of accidents\n",
    "grouped_data = df4.groupby(['Make', 'Number_of_Engines']).size().unstack()\n",
    "\n",
    "# Plotting the bar chart\n",
    "grouped_data.plot(kind='bar', figsize=(10, 6))\n",
    "\n",
    "# Labels for the bar chart\n",
    "plt.title('Number of Accidents by the Number of Engines')\n",
    "plt.xlabel('Aircraft Make')\n",
    "plt.ylabel('Number of Accidents')\n",
    "plt.xticks(rotation=0)\n",
    "plt.legend(title=\"Number of Engine\")\n",
    "plt.grid(axis='y', linestyle='-', alpha=0.7)\n",
    "# Showing the chart\n",
    "plt.show()"
   ]
  },
  {
   "cell_type": "markdown",
   "id": "0cb2a8dc-aa02-404b-bb6b-31320b46cbc0",
   "metadata": {},
   "source": [
    "##***Deductions from the above chart:***\n",
    "  1. _The number of accidents reduces as the number of engines increases_"
   ]
  },
  {
   "cell_type": "markdown",
   "id": "a2626547-1ae3-4040-a167-c5669012005c",
   "metadata": {},
   "source": [
    "##**Plotting a graph that shows the Total Passangers' Injuries for the 5 safest aircrafts from 2010**"
   ]
  },
  {
   "cell_type": "code",
   "execution_count": null,
   "id": "6f45ad9a-84a9-4fb0-b255-c38bc64b1730",
   "metadata": {},
   "outputs": [],
   "source": [
    "# Include data from 2010\n",
    "df = df[df['Year'] >= 2010]\n",
    "\n",
    "# Computation of total injuries\n",
    "df['Total_Injuries'] = df[['Total_Fatal_Injuries', 'Total_Serious_Injuries', 'Total_Minor_Injuries']].sum(axis=1)\n",
    "\n",
    "# Group data by 'Make' \n",
    "injuries_group = df.groupby('Make')['Total_Injuries'].sum()\n",
    "\n",
    "# Including Least_Accidents_Aircrafts only\n",
    "Least_Accidents_Aircrafts = ['ROBINSON', 'BOEING', 'HUGHES','BELLANCA','GRUMMAN']\n",
    "injuries_group  = injuries_group [injuries_group .index.isin(Least_Accidents_Aircrafts)]\n",
    "\n",
    "# Plot the chart\n",
    "plt.figure(figsize=(10, 6))\n",
    "bars = injuries_group.plot(kind='bar', color=['blue', 'green', 'red','orange','yellow'])\n",
    "# Labels and title\n",
    "plt.xlabel('Aircraft Make')\n",
    "plt.ylabel('Total Injuries')\n",
    "plt.title('Total Injuries by Aircrafts Make from 2010 Onwards')\n",
    "plt.xticks(rotation=45)\n",
    "plt.grid(axis='y', linestyle='-', alpha=0.7)\n",
    "\n",
    "# Show the chart\n",
    "plt.show()"
   ]
  },
  {
   "cell_type": "markdown",
   "id": "030761af-e3cb-4d82-a088-ea46f83d3223",
   "metadata": {},
   "source": [
    "##***Deductions from the above chart:***\n",
    "  1. _Boeing and Grumman have the lowest number of injuries since 2010 meaning they are the top 2 safest aircrafts_."
   ]
  },
  {
   "cell_type": "markdown",
   "id": "8884b210-4f0e-4f58-ab59-cdda4d6f7ae5",
   "metadata": {},
   "source": [
    "##**CONCLUSION**"
   ]
  },
  {
   "cell_type": "markdown",
   "id": "32a0ee62-1c79-4978-852b-9aefe4be54db",
   "metadata": {},
   "source": [
    "1. Top 3 highest risk aircrafts with the most accidents include Cessna, Piper, Beech\n",
    "2. Top 3 low risk aircrafts with the least accidents include Robinson, Boeing, Hughes\n",
    "3. Aviation accidents have been reducing over time probably due to improvement in technology, training and regulations\n",
    "4. Aircrafts with more than one engine are less likely to be involved in accidents\n",
    "5. Boeing and Grumman Aircrafts are the safest for the business flights because they did not have any accidents from 2010\n",
    "6. Grumman are the safest for the personal flights as they had the lowest number of accidents since 2010.\n",
    "7. Boeing and Grumman have the lowest number of injuries since 2010 meaning they are the top 2 safest aircrafts."
   ]
  },
  {
   "cell_type": "markdown",
   "id": "c4a468aa-1593-40e2-b78e-869d305ab91f",
   "metadata": {},
   "source": [
    "##**RECOMMENDATION**"
   ]
  },
  {
   "cell_type": "markdown",
   "id": "1a95ee45-2e46-4009-b226-4288bbeb9809",
   "metadata": {},
   "source": [
    "From the analysis, it would be prudent to acquire the latest models of Boeing for business flights and Grumman for personal flights. Further, acquiring an aircraft with more than one engine significantly reduce the risk of accidents. "
   ]
  }
 ],
 "metadata": {
  "kernelspec": {
   "display_name": "Python 3 (ipykernel)",
   "language": "python",
   "name": "python3"
  },
  "language_info": {
   "codemirror_mode": {
    "name": "ipython",
    "version": 3
   },
   "file_extension": ".py",
   "mimetype": "text/x-python",
   "name": "python",
   "nbconvert_exporter": "python",
   "pygments_lexer": "ipython3",
   "version": "3.12.7"
  }
 },
 "nbformat": 4,
 "nbformat_minor": 5
}
